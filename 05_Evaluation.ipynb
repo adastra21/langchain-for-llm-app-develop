{
 "cells": [
  {
   "cell_type": "markdown",
   "id": "52824b89-532a-4e54-87e9-1410813cd39e",
   "metadata": {},
   "source": [
    "# LangChain: Evaluation\n",
    "\n",
    "## Outline:\n",
    "\n",
    "* Example generation\n",
    "* Manual evaluation (and debuging)\n",
    "* LLM-assisted evaluation\n",
    "* LangChain evaluation platform"
   ]
  },
  {
   "cell_type": "code",
   "execution_count": 1,
   "id": "b7ed03ed-1322-49e3-b2a2-33e94fb592ef",
   "metadata": {
    "height": 81,
    "tags": []
   },
   "outputs": [],
   "source": [
    "import os\n",
    "\n",
    "from dotenv import load_dotenv, find_dotenv\n",
    "_ = load_dotenv(find_dotenv()) # read local .env file"
   ]
  },
  {
   "cell_type": "markdown",
   "id": "945d8abb-ba55-40a4-a3c5-6ad0dab73e3e",
   "metadata": {},
   "source": [
    "Note: LLM's do not always produce the same results. When executing the code in your notebook, you may get slightly different answers that those in the video."
   ]
  },
  {
   "cell_type": "code",
   "execution_count": 2,
   "id": "24ff81cd-dce0-4344-8d45-4a98fd3a87c9",
   "metadata": {
    "height": 234
   },
   "outputs": [],
   "source": [
    "# account for deprecation of LLM model\n",
    "import datetime\n",
    "# Get the current date\n",
    "current_date = datetime.datetime.now().date()\n",
    "\n",
    "# Define the date after which the model should be set to \"gpt-3.5-turbo\"\n",
    "target_date = datetime.date(2024, 6, 12)\n",
    "\n",
    "# Set the model variable based on the current date\n",
    "if current_date > target_date:\n",
    "    llm_model = \"gpt-3.5-turbo\"\n",
    "else:\n",
    "    llm_model = \"gpt-3.5-turbo-0301\""
   ]
  },
  {
   "cell_type": "markdown",
   "id": "28008949",
   "metadata": {},
   "source": [
    "## Create our QandA application"
   ]
  },
  {
   "cell_type": "code",
   "execution_count": 3,
   "id": "974acf8e-8f88-42de-88f8-40a82cb58e8b",
   "metadata": {
    "height": 98
   },
   "outputs": [],
   "source": [
    "from langchain.chains import RetrievalQA\n",
    "from langchain_openai import ChatOpenAI, OpenAIEmbeddings\n",
    "from langchain.document_loaders import CSVLoader\n",
    "from langchain.indexes import VectorstoreIndexCreator\n",
    "from langchain.vectorstores import DocArrayInMemorySearch"
   ]
  },
  {
   "cell_type": "code",
   "execution_count": 4,
   "id": "9ec1106d",
   "metadata": {
    "height": 64
   },
   "outputs": [],
   "source": [
    "file = 'datasets/ts_discography.csv'\n",
    "loader = CSVLoader(file_path=file)\n",
    "data = loader.load()"
   ]
  },
  {
   "cell_type": "code",
   "execution_count": 5,
   "id": "b31c218f",
   "metadata": {
    "height": 64
   },
   "outputs": [
    {
     "name": "stderr",
     "output_type": "stream",
     "text": [
      "/opt/homebrew/Caskroom/miniforge/base/envs/langchain/lib/python3.9/site-packages/langchain_core/_api/deprecation.py:117: LangChainDeprecationWarning: The class `langchain_community.embeddings.openai.OpenAIEmbeddings` was deprecated in langchain-community 0.1.0 and will be removed in 0.2.0. An updated version of the class exists in the langchain-openai package and should be used instead. To use it run `pip install -U langchain-openai` and import as `from langchain_openai import OpenAIEmbeddings`.\n",
      "  warn_deprecated(\n"
     ]
    }
   ],
   "source": [
    "index = VectorstoreIndexCreator(\n",
    "    vectorstore_cls=DocArrayInMemorySearch\n",
    ").from_loaders([loader])"
   ]
  },
  {
   "cell_type": "code",
   "execution_count": 6,
   "id": "a2006054",
   "metadata": {
    "height": 183
   },
   "outputs": [],
   "source": [
    "llm = ChatOpenAI(temperature = 0.0, model=llm_model)\n",
    "qa = RetrievalQA.from_chain_type(\n",
    "    llm=llm, \n",
    "    chain_type=\"stuff\", \n",
    "    retriever=index.vectorstore.as_retriever(), \n",
    "    verbose=True,\n",
    "    chain_type_kwargs = {\n",
    "        \"document_separator\": \"<<<<>>>>>\"\n",
    "    }\n",
    ")"
   ]
  },
  {
   "cell_type": "markdown",
   "id": "791ebd73",
   "metadata": {},
   "source": [
    "### Coming up with test datapoints"
   ]
  },
  {
   "cell_type": "code",
   "execution_count": 17,
   "id": "fb04a0f9",
   "metadata": {
    "height": 30
   },
   "outputs": [
    {
     "data": {
      "text/plain": [
       "\"album_title: Red (Deluxe Version)\\nalbum_url: https://genius.com/albums/Taylor-Swift/Red-Deluxe-Version\\ncategory: Red\\nalbum_track_number: 10\\nsong_title: The Last Time (Ft. Gary Lightbody)\\nsong_url: https://genius.com/Taylor-swift-the-last-time-lyrics\\nsong_artists: ['Taylor Swift', 'Gary Lightbody']\\nsong_release_date: 2012-10-22\\nsong_page_views: 2206\""
      ]
     },
     "execution_count": 17,
     "metadata": {},
     "output_type": "execute_result"
    }
   ],
   "source": [
    "dict(data[105])['page_content'][:350]"
   ]
  },
  {
   "cell_type": "code",
   "execution_count": 18,
   "id": "fe4a88c2",
   "metadata": {
    "height": 30
   },
   "outputs": [
    {
     "data": {
      "text/plain": [
       "\"album_title: Red (Deluxe Version)\\nalbum_url: https://genius.com/albums/Taylor-Swift/Red-Deluxe-Version\\ncategory: Red\\nalbum_track_number: 9\\nsong_title: Stay Stay Stay\\nsong_url: https://genius.com/Taylor-swift-stay-stay-stay-lyrics\\nsong_artists: ['Taylor Swift']\\nsong_release_date: 2012-10-22\\nsong_page_views: 139300\\nsong_lyrics: I'm pretty sure we alm\""
      ]
     },
     "execution_count": 18,
     "metadata": {},
     "output_type": "execute_result"
    }
   ],
   "source": [
    "dict(data[104])['page_content'][:350]"
   ]
  },
  {
   "cell_type": "markdown",
   "id": "8d548aef",
   "metadata": {},
   "source": [
    "### Hard-coded examples"
   ]
  },
  {
   "cell_type": "code",
   "execution_count": 19,
   "id": "c2d59bf2",
   "metadata": {
    "height": 217
   },
   "outputs": [],
   "source": [
    "examples = [\n",
    "    {\n",
    "        \"query\": \"What is the first song in the album Red (Deluxe Version)?\",\n",
    "        \"answer\": \"State of Grace\"\n",
    "    },\n",
    "    {\n",
    "        \"query\": \"Who is the most recent song released?\",\n",
    "        \"answer\": \"October 27th, 2023\"\n",
    "    }\n",
    "]"
   ]
  },
  {
   "cell_type": "markdown",
   "id": "c7ce3e4f",
   "metadata": {},
   "source": [
    "### LLM-Generated examples"
   ]
  },
  {
   "cell_type": "code",
   "execution_count": 20,
   "id": "d44f8376",
   "metadata": {
    "height": 47
   },
   "outputs": [],
   "source": [
    "from langchain.evaluation.qa import QAGenerateChain"
   ]
  },
  {
   "cell_type": "code",
   "execution_count": 21,
   "id": "34e87816",
   "metadata": {
    "height": 30
   },
   "outputs": [],
   "source": [
    "example_gen_chain = QAGenerateChain.from_llm(ChatOpenAI(model=llm_model))"
   ]
  },
  {
   "cell_type": "code",
   "execution_count": 22,
   "id": "31fb5bd0-fc2a-478c-9a09-6fe7e3307241",
   "metadata": {
    "height": 30
   },
   "outputs": [],
   "source": [
    "# the warning below can be safely ignored"
   ]
  },
  {
   "cell_type": "code",
   "execution_count": 23,
   "id": "62abae09",
   "metadata": {
    "height": 64
   },
   "outputs": [
    {
     "name": "stderr",
     "output_type": "stream",
     "text": [
      "/opt/homebrew/Caskroom/miniforge/base/envs/langchain/lib/python3.9/site-packages/langchain/chains/llm.py:344: UserWarning: The apply_and_parse method is deprecated, instead pass an output parser directly to LLMChain.\n",
      "  warnings.warn(\n"
     ]
    }
   ],
   "source": [
    "new_examples = example_gen_chain.apply_and_parse(\n",
    "    [{\"doc\": t} for t in data[5:10]]\n",
    ")"
   ]
  },
  {
   "cell_type": "code",
   "execution_count": 24,
   "id": "cb3bb71b",
   "metadata": {},
   "outputs": [],
   "source": [
    "query_answer_list = [{'query': item['qa_pairs']['query'], 'answer': item['qa_pairs']['answer']} for item in new_examples]"
   ]
  },
  {
   "cell_type": "code",
   "execution_count": 28,
   "id": "7b151e9d",
   "metadata": {},
   "outputs": [
    {
     "data": {
      "text/plain": [
       "\"album_title: Taylor Swift\\nalbum_url: https://genius.com/albums/Taylor-Swift/Taylor-Swift\\ncategory: Taylor Swift\\nalbum_track_number: 1\\nsong_title: Tim McGraw\\nsong_url: https://genius.com/Taylor-swift-tim-mcgraw-lyrics\\nsong_artists: ['Taylor Swift']\\nsong_release_date: 2006-06-19\\nsong_page_views: 24140\""
      ]
     },
     "execution_count": 28,
     "metadata": {},
     "output_type": "execute_result"
    }
   ],
   "source": [
    "dict(data[0])['page_content'][:300]"
   ]
  },
  {
   "cell_type": "markdown",
   "id": "faf25f2f",
   "metadata": {},
   "source": [
    "### Combine examples"
   ]
  },
  {
   "cell_type": "code",
   "execution_count": 30,
   "id": "ada2a3fc",
   "metadata": {
    "height": 30
   },
   "outputs": [],
   "source": [
    "examples += query_answer_list"
   ]
  },
  {
   "cell_type": "code",
   "execution_count": 37,
   "id": "9cdf5cf5",
   "metadata": {
    "height": 30
   },
   "outputs": [
    {
     "name": "stdout",
     "output_type": "stream",
     "text": [
      "\n",
      "\n",
      "\u001b[1m> Entering new RetrievalQA chain...\u001b[0m\n",
      "\n",
      "\u001b[1m> Finished chain.\u001b[0m\n"
     ]
    },
    {
     "data": {
      "text/plain": [
       "{'query': 'Who wrote and produced the song \"Tied Together with a Smile\" by Taylor Swift?',\n",
       " 'result': 'The song \"Tied Together with a Smile\" by Taylor Swift was written by Angelo Petraglia, Robert Ellis Orrall, and Taylor Swift, and produced by Angelo Petraglia and Robert Ellis Orrall.'}"
      ]
     },
     "execution_count": 37,
     "metadata": {},
     "output_type": "execute_result"
    }
   ],
   "source": [
    "qa.invoke(examples[3][\"query\"])"
   ]
  },
  {
   "cell_type": "markdown",
   "id": "63f3cb08",
   "metadata": {},
   "source": [
    "## Manual Evaluation"
   ]
  },
  {
   "cell_type": "code",
   "execution_count": 38,
   "id": "fcaf622e",
   "metadata": {
    "height": 47
   },
   "outputs": [],
   "source": [
    "import langchain\n",
    "langchain.debug = True"
   ]
  },
  {
   "cell_type": "code",
   "execution_count": 39,
   "id": "8a142638",
   "metadata": {
    "height": 30,
    "scrolled": false
   },
   "outputs": [
    {
     "name": "stderr",
     "output_type": "stream",
     "text": [
      "/opt/homebrew/Caskroom/miniforge/base/envs/langchain/lib/python3.9/site-packages/langchain_core/_api/deprecation.py:117: LangChainDeprecationWarning: The function `run` was deprecated in LangChain 0.1.0 and will be removed in 0.2.0. Use invoke instead.\n",
      "  warn_deprecated(\n"
     ]
    },
    {
     "name": "stdout",
     "output_type": "stream",
     "text": [
      "\u001b[32;1m\u001b[1;3m[chain/start]\u001b[0m \u001b[1m[1:chain:RetrievalQA] Entering Chain run with input:\n",
      "\u001b[0m{\n",
      "  \"query\": \"Who wrote and produced the song \\\"Tied Together with a Smile\\\" by Taylor Swift?\"\n",
      "}\n",
      "\u001b[32;1m\u001b[1;3m[chain/start]\u001b[0m \u001b[1m[1:chain:RetrievalQA > 3:chain:StuffDocumentsChain] Entering Chain run with input:\n",
      "\u001b[0m[inputs]\n",
      "\u001b[32;1m\u001b[1;3m[chain/start]\u001b[0m \u001b[1m[1:chain:RetrievalQA > 3:chain:StuffDocumentsChain > 4:chain:LLMChain] Entering Chain run with input:\n",
      "\u001b[0m{\n",
      "  \"question\": \"Who wrote and produced the song \\\"Tied Together with a Smile\\\" by Taylor Swift?\",\n",
      "  \"context\": \"album_title: Taylor Swift\\nalbum_url: https://genius.com/albums/Taylor-Swift/Taylor-Swift\\ncategory: Taylor Swift\\nalbum_track_number: 7\\nsong_title: Tied Together with a Smile\\nsong_url: https://genius.com/Taylor-swift-tied-together-with-a-smile-lyrics\\nsong_artists: ['Taylor Swift']\\nsong_release_date: 2006-10-24\\nsong_page_views: 106500<<<<>>>>>song_writers: ['Angelo Petraglia', 'Robert Ellis Orrall', 'Taylor Swift']\\nsong_producers: ['Angelo Petraglia', 'Robert Ellis Orrall']\\nsong_tags: ['Rock', 'Pop', 'Country', 'English', 'USA', 'Pop-Rock', 'Teen Pop', 'Singer-Songwriter', 'Country Pop']<<<<>>>>>song_writers: ['Angelo Petraglia', 'Robert Ellis Orrall', 'Taylor Swift']\\nsong_producers: ['Nathan Chapman']\\nsong_tags: ['Country', 'Pop', 'English', 'USA', 'Teen Pop', 'Country Pop', 'Soundtrack', 'Singer-Songwriter']<<<<>>>>>song_writers: ['Taylor Swift', 'Lori McKenna']\\nsong_producers: ['Taylor Swift', 'Aaron Dessner']\\nsong_tags: ['Pop', 'Country', 'English', 'USA', 'Country Rock', 'Duet', 'Orchestral', 'Piano', 'Adult Contemporary', 'Alternative Country', 'Alternative', 'Folk Pop', 'Folk', 'Singer-Songwriter', 'Country Pop']\"\n",
      "}\n",
      "\u001b[32;1m\u001b[1;3m[llm/start]\u001b[0m \u001b[1m[1:chain:RetrievalQA > 3:chain:StuffDocumentsChain > 4:chain:LLMChain > 5:llm:ChatOpenAI] Entering LLM run with input:\n",
      "\u001b[0m{\n",
      "  \"prompts\": [\n",
      "    \"System: Use the following pieces of context to answer the user's question. \\nIf you don't know the answer, just say that you don't know, don't try to make up an answer.\\n----------------\\nalbum_title: Taylor Swift\\nalbum_url: https://genius.com/albums/Taylor-Swift/Taylor-Swift\\ncategory: Taylor Swift\\nalbum_track_number: 7\\nsong_title: Tied Together with a Smile\\nsong_url: https://genius.com/Taylor-swift-tied-together-with-a-smile-lyrics\\nsong_artists: ['Taylor Swift']\\nsong_release_date: 2006-10-24\\nsong_page_views: 106500<<<<>>>>>song_writers: ['Angelo Petraglia', 'Robert Ellis Orrall', 'Taylor Swift']\\nsong_producers: ['Angelo Petraglia', 'Robert Ellis Orrall']\\nsong_tags: ['Rock', 'Pop', 'Country', 'English', 'USA', 'Pop-Rock', 'Teen Pop', 'Singer-Songwriter', 'Country Pop']<<<<>>>>>song_writers: ['Angelo Petraglia', 'Robert Ellis Orrall', 'Taylor Swift']\\nsong_producers: ['Nathan Chapman']\\nsong_tags: ['Country', 'Pop', 'English', 'USA', 'Teen Pop', 'Country Pop', 'Soundtrack', 'Singer-Songwriter']<<<<>>>>>song_writers: ['Taylor Swift', 'Lori McKenna']\\nsong_producers: ['Taylor Swift', 'Aaron Dessner']\\nsong_tags: ['Pop', 'Country', 'English', 'USA', 'Country Rock', 'Duet', 'Orchestral', 'Piano', 'Adult Contemporary', 'Alternative Country', 'Alternative', 'Folk Pop', 'Folk', 'Singer-Songwriter', 'Country Pop']\\nHuman: Who wrote and produced the song \\\"Tied Together with a Smile\\\" by Taylor Swift?\"\n",
      "  ]\n",
      "}\n",
      "\u001b[36;1m\u001b[1;3m[llm/end]\u001b[0m \u001b[1m[1:chain:RetrievalQA > 3:chain:StuffDocumentsChain > 4:chain:LLMChain > 5:llm:ChatOpenAI] [1.20s] Exiting LLM run with output:\n",
      "\u001b[0m{\n",
      "  \"generations\": [\n",
      "    [\n",
      "      {\n",
      "        \"text\": \"The song \\\"Tied Together with a Smile\\\" by Taylor Swift was written by Angelo Petraglia, Robert Ellis Orrall, and Taylor Swift, and produced by Angelo Petraglia and Robert Ellis Orrall.\",\n",
      "        \"generation_info\": {\n",
      "          \"finish_reason\": \"stop\",\n",
      "          \"logprobs\": null\n",
      "        },\n",
      "        \"type\": \"ChatGeneration\",\n",
      "        \"message\": {\n",
      "          \"lc\": 1,\n",
      "          \"type\": \"constructor\",\n",
      "          \"id\": [\n",
      "            \"langchain\",\n",
      "            \"schema\",\n",
      "            \"messages\",\n",
      "            \"AIMessage\"\n",
      "          ],\n",
      "          \"kwargs\": {\n",
      "            \"content\": \"The song \\\"Tied Together with a Smile\\\" by Taylor Swift was written by Angelo Petraglia, Robert Ellis Orrall, and Taylor Swift, and produced by Angelo Petraglia and Robert Ellis Orrall.\",\n",
      "            \"additional_kwargs\": {}\n",
      "          }\n",
      "        }\n",
      "      }\n",
      "    ]\n",
      "  ],\n",
      "  \"llm_output\": {\n",
      "    \"token_usage\": {\n",
      "      \"completion_tokens\": 43,\n",
      "      \"prompt_tokens\": 411,\n",
      "      \"total_tokens\": 454\n",
      "    },\n",
      "    \"model_name\": \"gpt-3.5-turbo-0301\",\n",
      "    \"system_fingerprint\": null\n",
      "  },\n",
      "  \"run\": null\n",
      "}\n",
      "\u001b[36;1m\u001b[1;3m[chain/end]\u001b[0m \u001b[1m[1:chain:RetrievalQA > 3:chain:StuffDocumentsChain > 4:chain:LLMChain] [1.20s] Exiting Chain run with output:\n",
      "\u001b[0m{\n",
      "  \"text\": \"The song \\\"Tied Together with a Smile\\\" by Taylor Swift was written by Angelo Petraglia, Robert Ellis Orrall, and Taylor Swift, and produced by Angelo Petraglia and Robert Ellis Orrall.\"\n",
      "}\n",
      "\u001b[36;1m\u001b[1;3m[chain/end]\u001b[0m \u001b[1m[1:chain:RetrievalQA > 3:chain:StuffDocumentsChain] [1.20s] Exiting Chain run with output:\n",
      "\u001b[0m{\n",
      "  \"output_text\": \"The song \\\"Tied Together with a Smile\\\" by Taylor Swift was written by Angelo Petraglia, Robert Ellis Orrall, and Taylor Swift, and produced by Angelo Petraglia and Robert Ellis Orrall.\"\n",
      "}\n",
      "\u001b[36;1m\u001b[1;3m[chain/end]\u001b[0m \u001b[1m[1:chain:RetrievalQA] [1.43s] Exiting Chain run with output:\n",
      "\u001b[0m{\n",
      "  \"result\": \"The song \\\"Tied Together with a Smile\\\" by Taylor Swift was written by Angelo Petraglia, Robert Ellis Orrall, and Taylor Swift, and produced by Angelo Petraglia and Robert Ellis Orrall.\"\n",
      "}\n"
     ]
    },
    {
     "data": {
      "text/plain": [
       "'The song \"Tied Together with a Smile\" by Taylor Swift was written by Angelo Petraglia, Robert Ellis Orrall, and Taylor Swift, and produced by Angelo Petraglia and Robert Ellis Orrall.'"
      ]
     },
     "execution_count": 39,
     "metadata": {},
     "output_type": "execute_result"
    }
   ],
   "source": [
    "qa.run(examples[3][\"query\"])"
   ]
  },
  {
   "cell_type": "code",
   "execution_count": 40,
   "id": "b3d6bef0",
   "metadata": {
    "height": 47
   },
   "outputs": [],
   "source": [
    "# Turn off the debug mode\n",
    "langchain.debug = False"
   ]
  },
  {
   "cell_type": "markdown",
   "id": "d5bdbdce",
   "metadata": {},
   "source": [
    "## LLM assisted evaluation"
   ]
  },
  {
   "cell_type": "code",
   "execution_count": 41,
   "id": "a4dca05a",
   "metadata": {
    "height": 30,
    "scrolled": false
   },
   "outputs": [
    {
     "name": "stdout",
     "output_type": "stream",
     "text": [
      "\n",
      "\n",
      "\u001b[1m> Entering new RetrievalQA chain...\u001b[0m\n",
      "\n",
      "\n",
      "\u001b[1m> Entering new RetrievalQA chain...\u001b[0m\n",
      "\n",
      "\n",
      "\u001b[1m> Entering new RetrievalQA chain...\u001b[0m\n",
      "\n",
      "\n",
      "\u001b[1m> Entering new RetrievalQA chain...\u001b[0m\n",
      "\n",
      "\n",
      "\u001b[1m> Entering new RetrievalQA chain...\u001b[0m\n",
      "\n",
      "\n",
      "\u001b[1m> Entering new RetrievalQA chain...\u001b[0m\n",
      "\n",
      "\n",
      "\u001b[1m> Entering new RetrievalQA chain...\u001b[0m\n",
      "\n",
      "\u001b[1m> Finished chain.\u001b[0m\n",
      "\n",
      "\u001b[1m> Finished chain.\u001b[0m\n",
      "\n",
      "\u001b[1m> Finished chain.\u001b[0m\n",
      "\n",
      "\u001b[1m> Finished chain.\u001b[0m\n",
      "\n",
      "\u001b[1m> Finished chain.\u001b[0m\n",
      "\n",
      "\u001b[1m> Finished chain.\u001b[0m\n",
      "\n",
      "\u001b[1m> Finished chain.\u001b[0m\n"
     ]
    }
   ],
   "source": [
    "predictions = qa.batch(inputs=examples)"
   ]
  },
  {
   "cell_type": "code",
   "execution_count": 42,
   "id": "6012a3e0",
   "metadata": {
    "height": 30
   },
   "outputs": [],
   "source": [
    "from langchain.evaluation.qa import QAEvalChain"
   ]
  },
  {
   "cell_type": "code",
   "execution_count": 43,
   "id": "724b1c0b",
   "metadata": {
    "height": 47
   },
   "outputs": [],
   "source": [
    "llm = ChatOpenAI(temperature=0, model=llm_model)\n",
    "eval_chain = QAEvalChain.from_llm(llm)"
   ]
  },
  {
   "cell_type": "code",
   "execution_count": 44,
   "id": "8b46ae55",
   "metadata": {
    "height": 30
   },
   "outputs": [],
   "source": [
    "graded_outputs = eval_chain.evaluate(examples, predictions)"
   ]
  },
  {
   "cell_type": "code",
   "execution_count": 45,
   "id": "2244dabc",
   "metadata": {},
   "outputs": [
    {
     "data": {
      "text/plain": [
       "[{'results': 'INCORRECT'},\n",
       " {'results': 'INCORRECT'},\n",
       " {'results': 'CORRECT'},\n",
       " {'results': 'INCORRECT'},\n",
       " {'results': 'INCORRECT'},\n",
       " {'results': 'CORRECT'},\n",
       " {'results': 'CORRECT'}]"
      ]
     },
     "execution_count": 45,
     "metadata": {},
     "output_type": "execute_result"
    }
   ],
   "source": [
    "graded_outputs"
   ]
  },
  {
   "cell_type": "code",
   "execution_count": 46,
   "id": "3437cfbe",
   "metadata": {
    "height": 132
   },
   "outputs": [
    {
     "name": "stdout",
     "output_type": "stream",
     "text": [
      "Example 0:\n",
      "Question: What is the first song in the album Red (Deluxe Version)?\n",
      "Real Answer: State of Grace\n",
      "Predicted Answer: The first song in the album Red (Deluxe Version) is not provided in the given context. The album track number for the song is also not in order. Therefore, I don't have the answer to your question.\n",
      "Predicted Grade: INCORRECT\n",
      "\n",
      "Example 1:\n",
      "Question: Who is the most recent song released?\n",
      "Real Answer: October 27th, 2023\n",
      "Predicted Answer: The most recent song released is \"Only The Young\" by Taylor Swift, released on January 31, 2020.\n",
      "Predicted Grade: INCORRECT\n",
      "\n",
      "Example 2:\n",
      "Question: What is the release date of the Taylor Swift song \"The Outside\"?\n",
      "Real Answer: The release date of the Taylor Swift song \"The Outside\" is October 24, 2006.\n",
      "Predicted Answer: The release date of the Taylor Swift song \"The Outside\" is 2006-10-24.\n",
      "Predicted Grade: CORRECT\n",
      "\n",
      "Example 3:\n",
      "Question: Who wrote and produced the song \"Tied Together with a Smile\" by Taylor Swift?\n",
      "Real Answer: The song \"Tied Together with a Smile\" by Taylor Swift was written by Liz Rose and Taylor Swift, and produced by Nathan Chapman, according to the metadata in the document.\n",
      "Predicted Answer: The song \"Tied Together with a Smile\" by Taylor Swift was written by Angelo Petraglia, Robert Ellis Orrall, and Taylor Swift, and produced by Angelo Petraglia and Robert Ellis Orrall.\n",
      "Predicted Grade: INCORRECT\n",
      "\n",
      "Example 4:\n",
      "Question: Who are the songwriters and producers for the song \"Stay Beautiful\" by Taylor Swift?\n",
      "Real Answer: The songwriters for \"Stay Beautiful\" are Liz Rose and Taylor Swift, while the producer is Nathan Chapman.\n",
      "Predicted Answer: The songwriters for \"Stay Beautiful\" by Taylor Swift are Taylor Swift and Brett Beavers, and the producer is Brett Beavers.\n",
      "Predicted Grade: INCORRECT\n",
      "\n",
      "Example 5:\n",
      "Question: What is the name of the album that the song \"Should've Said No\" is featured on and who is the artist?\n",
      "Real Answer: The name of the album is \"Taylor Swift\" and the artist is Taylor Swift.\n",
      "Predicted Answer: The song \"Should've Said No\" is featured on the album \"Taylor Swift\" and the artist is Taylor Swift.\n",
      "Predicted Grade: CORRECT\n",
      "\n",
      "Example 6:\n",
      "Question: What is the title of the song and when was it released?\n",
      "Real Answer: The title of the song is \"Mary's Song (Oh My My My)\" and it was released on October 24, 2006.\n",
      "Predicted Answer: I'm sorry, which song are you referring to? Please provide more context.\n",
      "Predicted Grade: CORRECT\n",
      "\n"
     ]
    }
   ],
   "source": [
    "for i, eg in enumerate(examples):\n",
    "    print(f\"Example {i}:\")\n",
    "    print(\"Question: \" + predictions[i]['query'])\n",
    "    print(\"Real Answer: \" + predictions[i]['answer'])\n",
    "    print(\"Predicted Answer: \" + predictions[i]['result'])\n",
    "    print(\"Predicted Grade: \" + graded_outputs[i]['results'])\n",
    "    print()"
   ]
  },
  {
   "cell_type": "code",
   "execution_count": null,
   "id": "e91f22ca",
   "metadata": {},
   "outputs": [],
   "source": []
  }
 ],
 "metadata": {
  "kernelspec": {
   "display_name": "Python 3 (ipykernel)",
   "language": "python",
   "name": "python3"
  },
  "language_info": {
   "codemirror_mode": {
    "name": "ipython",
    "version": 3
   },
   "file_extension": ".py",
   "mimetype": "text/x-python",
   "name": "python",
   "nbconvert_exporter": "python",
   "pygments_lexer": "ipython3",
   "version": "3.9.16"
  }
 },
 "nbformat": 4,
 "nbformat_minor": 5
}
